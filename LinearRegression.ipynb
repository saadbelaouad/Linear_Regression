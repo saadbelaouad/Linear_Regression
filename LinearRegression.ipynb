{
 "cells": [
  {
   "cell_type": "code",
   "execution_count": 1,
   "id": "d482e02c",
   "metadata": {},
   "outputs": [],
   "source": [
    "import numpy as np"
   ]
  },
  {
   "cell_type": "code",
   "execution_count": 4,
   "id": "8bd1899d",
   "metadata": {},
   "outputs": [],
   "source": [
    "class LinearRegression :\n",
    "    def __init__(self,lr=0.001,n_iters=1000): \n",
    "        self.lr=lr\n",
    "        self.n_iters=n_iters\n",
    "        self.weights=None\n",
    "        self.bias=None\n",
    "    def fit(self,X,y):\n",
    "        #numbers of features and samples \n",
    "        n_samples,n_features=X.shape\n",
    "        self.weights = np.zeros(n_features)\n",
    "        self.bias=0\n",
    "        #_:something\n",
    "        for _ in range(self.n_iters) : \n",
    "            y_pred=np.dot(X,self.weights)+self.bias\n",
    "            #dot includes the summation \n",
    "            dw=(1/n_samples)*np.dot(X.T,(y_pred-y))\n",
    "            db=(1/n_samples)*sum(y_pred-y)\n",
    "            self.weight=self.weight-self.lr*dw\n",
    "            self.bias=self.bias-self.lr*db\n",
    "     \n",
    "            \n",
    "            \n",
    "        \n",
    "    def predict(self,X):\n",
    "        y_pred=np.dot(X,self.weights)+self.bias\n",
    "        return y_pred\n",
    "\n",
    "        "
   ]
  },
  {
   "cell_type": "code",
   "execution_count": null,
   "id": "26afa363",
   "metadata": {},
   "outputs": [],
   "source": []
  }
 ],
 "metadata": {
  "kernelspec": {
   "display_name": "Python 3 (ipykernel)",
   "language": "python",
   "name": "python3"
  },
  "language_info": {
   "codemirror_mode": {
    "name": "ipython",
    "version": 3
   },
   "file_extension": ".py",
   "mimetype": "text/x-python",
   "name": "python",
   "nbconvert_exporter": "python",
   "pygments_lexer": "ipython3",
   "version": "3.9.13"
  }
 },
 "nbformat": 4,
 "nbformat_minor": 5
}
